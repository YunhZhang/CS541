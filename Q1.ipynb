{
  "nbformat": 4,
  "nbformat_minor": 0,
  "metadata": {
    "colab": {
      "provenance": [],
      "authorship_tag": "ABX9TyORV28HUxKYVoJyZqwFywcj",
      "include_colab_link": true
    },
    "kernelspec": {
      "name": "python3",
      "display_name": "Python 3"
    },
    "language_info": {
      "name": "python"
    }
  },
  "cells": [
    {
      "cell_type": "markdown",
      "metadata": {
        "id": "view-in-github",
        "colab_type": "text"
      },
      "source": [
        "<a href=\"https://colab.research.google.com/github/YunhZhang/CS541/blob/HW5/Q1.ipynb\" target=\"_parent\"><img src=\"https://colab.research.google.com/assets/colab-badge.svg\" alt=\"Open In Colab\"/></a>"
      ]
    },
    {
      "cell_type": "code",
      "source": [
        "import tensorflow as tf\n",
        "import numpy as np\n",
        "import matplotlib.pyplot as plt\n",
        "from sklearn.model_selection import train_test_split"
      ],
      "metadata": {
        "id": "9AEsFZ73RKil"
      },
      "execution_count": 3,
      "outputs": []
    },
    {
      "cell_type": "code",
      "source": [
        "(x_train, y_train_raw), (x_test, y_test_raw) = tf.keras.datasets.fashion_mnist.load_data()"
      ],
      "metadata": {
        "id": "TgVJgIxKRdZH"
      },
      "execution_count": 10,
      "outputs": []
    },
    {
      "cell_type": "code",
      "source": [
        "y_train.shape"
      ],
      "metadata": {
        "colab": {
          "base_uri": "https://localhost:8080/"
        },
        "id": "Xkzg-_T19Bqf",
        "outputId": "3647c309-eae4-446c-d131-6ea5da91fa8c"
      },
      "execution_count": 7,
      "outputs": [
        {
          "output_type": "execute_result",
          "data": {
            "text/plain": [
              "(60000,)"
            ]
          },
          "metadata": {},
          "execution_count": 7
        }
      ]
    },
    {
      "cell_type": "code",
      "source": [
        "y_test.shape"
      ],
      "metadata": {
        "colab": {
          "base_uri": "https://localhost:8080/"
        },
        "id": "YOZNQs28B5k1",
        "outputId": "2597dc31-eb3a-4f3a-e2ad-460bcfbe7efd"
      },
      "execution_count": 8,
      "outputs": [
        {
          "output_type": "execute_result",
          "data": {
            "text/plain": [
              "(10000,)"
            ]
          },
          "metadata": {},
          "execution_count": 8
        }
      ]
    },
    {
      "cell_type": "code",
      "source": [
        "def vec2matrix(y):\n",
        "    n = y.shape[0]\n",
        "    y_table = np.zeros((n, 10))\n",
        "    for i in range(len(y)):\n",
        "        y_table[i, y[i]] = 1\n",
        "    return y_table\n",
        "\n",
        "y_train = vec2matrix(y_train_raw)\n",
        "y_test = vec2matrix(y_test_raw)"
      ],
      "metadata": {
        "id": "w5RoSv0_oSvp"
      },
      "execution_count": 11,
      "outputs": []
    },
    {
      "cell_type": "code",
      "source": [
        "print(\"x_train shape:\", x_train.shape, \"y_train shape:\", y_train.shape)"
      ],
      "metadata": {
        "colab": {
          "base_uri": "https://localhost:8080/"
        },
        "id": "VOoEanRPTBx7",
        "outputId": "80b52b61-a087-4694-8c26-820f644c560a"
      },
      "execution_count": 12,
      "outputs": [
        {
          "output_type": "stream",
          "name": "stdout",
          "text": [
            "x_train shape: (60000, 28, 28) y_train shape: (60000, 10)\n"
          ]
        }
      ]
    },
    {
      "cell_type": "code",
      "source": [
        "img_index = 0\n",
        "plt.imshow(x_train[img_index])"
      ],
      "metadata": {
        "colab": {
          "base_uri": "https://localhost:8080/",
          "height": 282
        },
        "id": "KVq0aYXwTEY0",
        "outputId": "664d0a3c-4bfd-4f3c-8fab-b1c676199789"
      },
      "execution_count": 13,
      "outputs": [
        {
          "output_type": "execute_result",
          "data": {
            "text/plain": [
              "<matplotlib.image.AxesImage at 0x7f43a2fe91f0>"
            ]
          },
          "metadata": {},
          "execution_count": 13
        },
        {
          "output_type": "display_data",
          "data": {
            "text/plain": [
              "<Figure size 432x288 with 1 Axes>"
            ],
            "image/png": "[encoded data removed]"
          },
          "metadata": {
            "needs_background": "light"
          }
        }
      ]
    },
    {
      "cell_type": "code",
      "source": [
        "x_train = x_train.astype('float32') / 255\n",
        "x_test = x_test.astype('float32') / 255\n",
        "x_train, x_valid, y_train, y_valid = train_test_split(x_train,y_train ,\n",
        "                                   random_state=42, \n",
        "                                   test_size=0.2, \n",
        "                                   shuffle=True)"
      ],
      "metadata": {
        "id": "SHrgcThSTI8N"
      },
      "execution_count": 14,
      "outputs": []
    },
    {
      "cell_type": "code",
      "source": [
        "print(\"x_train shape:\", x_train.shape, \"y_train shape:\", y_train.shape)\n",
        "print(\"x_valid shape:\", x_valid.shape, \"y_valid shape:\", y_valid.shape)\n"
      ],
      "metadata": {
        "colab": {
          "base_uri": "https://localhost:8080/"
        },
        "id": "CALG8zTpmVth",
        "outputId": "dcedf875-4d4d-42eb-8d7a-106db9df109c"
      },
      "execution_count": 15,
      "outputs": [
        {
          "output_type": "stream",
          "name": "stdout",
          "text": [
            "x_train shape: (48000, 28, 28) y_train shape: (48000, 10)\n",
            "x_valid shape: (12000, 28, 28) y_valid shape: (12000, 10)\n"
          ]
        }
      ]
    },
    {
      "cell_type": "code",
      "source": [
        "model = tf.keras.Sequential()\n",
        "# Must define the input shape in the first layer of the neural network\n",
        "model.add(tf.keras.layers.Conv2D(filters=64, kernel_size=2, padding='same', activation='relu', input_shape=(28,28,1))) \n",
        "model.add(tf.keras.layers.MaxPooling2D(pool_size=2))\n",
        "model.add(tf.keras.layers.Dropout(0.3))\n",
        "model.add(tf.keras.layers.Conv2D(filters=32, kernel_size=2, padding='same', activation='relu'))\n",
        "model.add(tf.keras.layers.MaxPooling2D(pool_size=2))\n",
        "model.add(tf.keras.layers.Dropout(0.3))\n",
        "model.add(tf.keras.layers.Flatten())\n",
        "model.add(tf.keras.layers.Dense(256, activation='relu'))\n",
        "model.add(tf.keras.layers.Dropout(0.5))\n",
        "model.add(tf.keras.layers.Dense(10, activation='softmax'))\n",
        "# Take a look at the model summary\n",
        "model.summary()"
      ],
      "metadata": {
        "colab": {
          "base_uri": "https://localhost:8080/"
        },
        "id": "Tg8CLsixXA1s",
        "outputId": "6453fddb-af07-4e6e-cb6a-1ef0023cd612"
      },
      "execution_count": 16,
      "outputs": [
        {
          "output_type": "stream",
          "name": "stdout",
          "text": [
            "Model: \"sequential\"\n",
            "_________________________________________________________________\n",
            " Layer (type)                Output Shape              Param #   \n",
            "=================================================================\n",
            " conv2d (Conv2D)             (None, 28, 28, 64)        320       \n",
            "                                                                 \n",
            " max_pooling2d (MaxPooling2D  (None, 14, 14, 64)       0         \n",
            " )                                                               \n",
            "                                                                 \n",
            " dropout (Dropout)           (None, 14, 14, 64)        0         \n",
            "                                                                 \n",
            " conv2d_1 (Conv2D)           (None, 14, 14, 32)        8224      \n",
            "                                                                 \n",
            " max_pooling2d_1 (MaxPooling  (None, 7, 7, 32)         0         \n",
            " 2D)                                                             \n",
            "                                                                 \n",
            " dropout_1 (Dropout)         (None, 7, 7, 32)          0         \n",
            "                                                                 \n",
            " flatten (Flatten)           (None, 1568)              0         \n",
            "                                                                 \n",
            " dense (Dense)               (None, 256)               401664    \n",
            "                                                                 \n",
            " dropout_2 (Dropout)         (None, 256)               0         \n",
            "                                                                 \n",
            " dense_1 (Dense)             (None, 10)                2570      \n",
            "                                                                 \n",
            "=================================================================\n",
            "Total params: 412,778\n",
            "Trainable params: 412,778\n",
            "Non-trainable params: 0\n",
            "_________________________________________________________________\n"
          ]
        }
      ]
    },
    {
      "cell_type": "code",
      "source": [
        "model.compile(loss='categorical_crossentropy',\n",
        "             optimizer='adam',\n",
        "             metrics=['accuracy'])"
      ],
      "metadata": {
        "id": "PlEdHvVKXMag"
      },
      "execution_count": 17,
      "outputs": []
    },
    {
      "cell_type": "code",
      "source": [
        "model.fit(x_train,\n",
        "         y_train,\n",
        "         batch_size=64,\n",
        "         epochs=10,\n",
        "         validation_data=(x_valid, y_valid))"
      ],
      "metadata": {
        "colab": {
          "base_uri": "https://localhost:8080/"
        },
        "id": "eV7eT0GdYmHj",
        "outputId": "f0844764-ba7c-4bab-f764-3c7b109adb08"
      },
      "execution_count": 18,
      "outputs": [
        {
          "output_type": "stream",
          "name": "stdout",
          "text": [
            "Epoch 1/10\n",
            "750/750 [==============================] - 81s 106ms/step - loss: 0.6380 - accuracy: 0.7626 - val_loss: 0.4215 - val_accuracy: 0.8534\n",
            "Epoch 2/10\n",
            "750/750 [==============================] - 79s 106ms/step - loss: 0.4397 - accuracy: 0.8404 - val_loss: 0.3410 - val_accuracy: 0.8766\n",
            "Epoch 3/10\n",
            "750/750 [==============================] - 77s 102ms/step - loss: 0.3932 - accuracy: 0.8591 - val_loss: 0.3198 - val_accuracy: 0.8817\n",
            "Epoch 4/10\n",
            "750/750 [==============================] - 77s 102ms/step - loss: 0.3630 - accuracy: 0.8667 - val_loss: 0.2916 - val_accuracy: 0.8934\n",
            "Epoch 5/10\n",
            "750/750 [==============================] - 77s 103ms/step - loss: 0.3385 - accuracy: 0.8757 - val_loss: 0.2733 - val_accuracy: 0.8949\n",
            "Epoch 6/10\n",
            "750/750 [==============================] - 77s 102ms/step - loss: 0.3180 - accuracy: 0.8826 - val_loss: 0.2715 - val_accuracy: 0.8983\n",
            "Epoch 7/10\n",
            "750/750 [==============================] - 78s 104ms/step - loss: 0.3087 - accuracy: 0.8871 - val_loss: 0.2610 - val_accuracy: 0.9030\n",
            "Epoch 8/10\n",
            "750/750 [==============================] - 76s 101ms/step - loss: 0.2942 - accuracy: 0.8913 - val_loss: 0.2569 - val_accuracy: 0.9053\n",
            "Epoch 9/10\n",
            "750/750 [==============================] - 77s 103ms/step - loss: 0.2864 - accuracy: 0.8952 - val_loss: 0.2422 - val_accuracy: 0.9090\n",
            "Epoch 10/10\n",
            "750/750 [==============================] - 75s 100ms/step - loss: 0.2786 - accuracy: 0.8994 - val_loss: 0.2437 - val_accuracy: 0.9105\n"
          ]
        },
        {
          "output_type": "execute_result",
          "data": {
            "text/plain": [
              "<keras.callbacks.History at 0x7f43a3db61c0>"
            ]
          },
          "metadata": {},
          "execution_count": 18
        }
      ]
    },
    {
      "cell_type": "code",
      "source": [
        "# Evaluate the model on test set\n",
        "score = model.evaluate(x_test, y_test, verbose=0)\n",
        "# Print test accuracy\n",
        "print('\\n', 'Test accuracy:', score[1])"
      ],
      "metadata": {
        "colab": {
          "base_uri": "https://localhost:8080/"
        },
        "id": "NfeoYS1RawXb",
        "outputId": "09a2fa47-c253-4dea-fbfd-2e2c10bcf47b"
      },
      "execution_count": 19,
      "outputs": [
        {
          "output_type": "stream",
          "name": "stdout",
          "text": [
            "\n",
            " Test accuracy: 0.909600019454956\n"
          ]
        }
      ]
    }
  ]
}